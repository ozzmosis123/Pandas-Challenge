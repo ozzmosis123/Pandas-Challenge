{
 "cells": [
  {
   "cell_type": "code",
   "execution_count": null,
   "metadata": {},
   "outputs": [],
   "source": [
    "# 1. Males by far comprise for most purchases at 84.03%. That is 484 players out of a player count of 576.\n",
    "# 2. Males also made way more purchases as they were responsible for 652 purchases out of 780. \n",
    "# 3. The age range most responsible for purchases was the range between 15 to 24 year olds \n",
    "# and it was the range between 20-24 year olds that produced the most sales at $1,114.06."
   ]
  },
  {
   "cell_type": "code",
   "execution_count": null,
   "metadata": {},
   "outputs": [],
   "source": [
    "import pandas as pd\n",
    "\n",
    "file_path = \"C:/Users/Ozzmo/Documents/purchase_data.csv\"\n",
    "\n",
    "purchase_data = pd.read_csv(file_path)"
   ]
  },
  {
   "cell_type": "code",
   "execution_count": null,
   "metadata": {},
   "outputs": [],
   "source": [
    "# Player Count\n",
    "count = len(purchase_data[\"SN\"].unique())\n",
    "\n",
    "total = pd.DataFrame({\"Total Players\": [count]})\n",
    "total"
   ]
  },
  {
   "cell_type": "code",
   "execution_count": null,
   "metadata": {},
   "outputs": [],
   "source": [
    "# Purchasing Analysis (Total)\n",
    "unique = len(purchase_data[\"Item Name\"].unique())\n",
    "average = purchase_data[\"Price\"].mean()\n",
    "purchases = len(purchase_data[\"Purchase ID\"])\n",
    "total = purchase_data[\"Price\"].sum()\n",
    "\n",
    "purchase_totals = pd.DataFrame({\"Number of Unique Items\": [unique],\n",
    "                               \"Average Price\": [average],\n",
    "                               \"Number of Purchases\": [purchases],\n",
    "                               \"Total Revenue\": [total]})\n",
    "\n",
    "purchase_totals[\"Average Price\"] = purchase_totals[\"Average Price\"].map(\"${:.2f}\".format)\n",
    "purchase_totals[\"Total Revenue\"] = purchase_totals[\"Total Revenue\"].map(\"${:,}\".format)\n",
    "purchase_totals"
   ]
  },
  {
   "cell_type": "code",
   "execution_count": null,
   "metadata": {},
   "outputs": [],
   "source": [
    "# Gender Demographics\n",
    "groupedSN = purchase_data.groupby([\"SN\"])\n",
    "grouped = groupedSN[\"Gender\"].describe()\n",
    "group_gend = grouped[\"top\"].value_counts()\n",
    "\n",
    "male = len(grouped.loc[grouped[\"top\"] == \"Male\", :])\n",
    "female = len(grouped.loc[grouped[\"top\"] == \"Female\", :])\n",
    "other = len(grouped.loc[grouped[\"top\"] == \"Other / Non-Disclosed\", :])\n",
    "male_p = male/count\n",
    "male_perc = \"{:.2%}\".format(male_p)\n",
    "female_p = female/count\n",
    "female_perc = \"{:.2%}\".format(female_p)\n",
    "other_p = other/count\n",
    "other_perc = \"{:.2%}\".format(other_p)\n",
    "\n",
    "gender_sum_pd = pd.DataFrame({\"Genders\": [\"Male\", \"Female\", \"Other/Non-Disclosed\"],\n",
    "                           \"Total Count\": [male, female, other],\n",
    "                           \"Percentage of Players\": [male_perc, female_perc, other_perc]})\n",
    "\n",
    "gender_sum = gender_sum_pd.set_index(\"Genders\")\n",
    "del gender_sum.index.name\n",
    "gender_sum"
   ]
  },
  {
   "cell_type": "code",
   "execution_count": null,
   "metadata": {},
   "outputs": [],
   "source": [
    "# Purchasing Analysis (Gender)\n",
    "purchase_count = purchase_data[\"Gender\"].value_counts()\n",
    "\n",
    "gender_price = purchase_data.groupby([\"Gender\"])\n",
    "grouped_price = gender_price[\"Price\"].mean().map(\"${:.2f}\".format)\n",
    "total_purchase = gender_price[\"Price\"].sum()\n",
    "\n",
    "frame = {\"Purchase Count\": purchase_count,\n",
    "         \"Average Purchase Price\": grouped_price,\n",
    "         \"Total Purchase Value\": total_purchase}\n",
    "\n",
    "result = pd.DataFrame(frame)\n",
    "\n",
    "avg_total = result[\"Total Purchase Value\"] / group_gend\n",
    "result[\"Avg Total Purchase per Person\"] = avg_total\n",
    "result[\"Total Purchase Value\"] = result[\"Total Purchase Value\"].map(\"${:,.2f}\".format)\n",
    "result[\"Avg Total Purchase per Person\"] = result[\"Avg Total Purchase per Person\"].map(\"${:.2f}\".format)\n",
    "result"
   ]
  },
  {
   "cell_type": "code",
   "execution_count": null,
   "metadata": {},
   "outputs": [],
   "source": [
    "# Age Demographics\n",
    "age_df = purchase_data.loc[:, [\"SN\", \"Age\"]]\n",
    "\n",
    "bins = [0, 9, 14, 19, 24, 29, 34, 39, 100]\n",
    "header = [\"<10\", \"10-14\", \"15-19\", \"20-24\", \"25-29\", \"30-34\", \"35-39\", \"40+\"]\n",
    "age_df[\"ranges\"] = pd.cut(age_df[\"Age\"], bins, labels=header)"
   ]
  },
  {
   "cell_type": "code",
   "execution_count": null,
   "metadata": {
    "scrolled": true
   },
   "outputs": [],
   "source": [
    "age_df_grp = age_df.groupby(\"ranges\")[\"SN\"].nunique()\n",
    "\n",
    "age_frame = {\"Total Count\": age_df_grp}\n",
    "age_results = pd.DataFrame(age_frame)\n",
    "\n",
    "percent = age_results[\"Total Count\"] / count\n",
    "age_results[\"Percentage of Players\"] = percent\n",
    "\n",
    "age_results[\"Percentage of Players\"] = age_results[\"Percentage of Players\"].map(\"{:.2%}\".format)\n",
    "age_results"
   ]
  },
  {
   "cell_type": "code",
   "execution_count": null,
   "metadata": {},
   "outputs": [],
   "source": [
    "# Purchasing Analysis (Age)\n",
    "purch_age = purchase_data.loc[:, [\"SN\", \"Age\", \"Price\"]]\n",
    "purch_age[\"Age Ranges\"] = pd.cut(purch_age[\"Age\"], bins, labels=header)\n",
    "\n",
    "age_range = purch_age.groupby(\"Age Ranges\")\n",
    "age_count = age_range[\"SN\"].count()\n",
    "age_avg = age_range[\"Price\"].mean().map(\"${:.2f}\".format)\n",
    "age_sum = age_range[\"Price\"].sum()\n",
    "\n",
    "new_age_frame = {\"Purchase Count\": age_count, \"Average Purchase Price\": age_avg, \"Total Purchase Value\": age_sum}\n",
    "new_age_results = pd.DataFrame(new_age_frame)\n",
    "\n",
    "avg_purch = new_age_results[\"Total Purchase Value\"] / age_results[\"Total Count\"]\n",
    "new_age_results[\"Avg Total Purchase per Person\"] = avg_purch\n",
    "new_age_results[\"Total Purchase Value\"] = new_age_results[\"Total Purchase Value\"].map(\"${:,.2f}\".format)\n",
    "new_age_results[\"Avg Total Purchase per Person\"] = new_age_results[\"Avg Total Purchase per Person\"].map(\"${:.2f}\".format)\n",
    "new_age_results"
   ]
  },
  {
   "cell_type": "code",
   "execution_count": null,
   "metadata": {},
   "outputs": [],
   "source": [
    "# Top Spenders\n",
    "spenders = purchase_data[\"SN\"].value_counts()\n",
    "spend_grp = purchase_data.groupby([\"SN\"])\n",
    "spend_sum = spend_grp[\"Price\"].sum()\n",
    "\n",
    "spender_frame = {\"Purchase Count\": spenders, \"Total Purchase Value\": spend_sum}\n",
    "spender_df = pd.DataFrame(spender_frame)\n",
    "\n",
    "avg_spender = spender_df[\"Total Purchase Value\"] / spender_df[\"Purchase Count\"]\n",
    "spender_df[\"Average Purchase Price\"] = avg_spender\n",
    "\n",
    "organized_spender = spender_df[[\"Purchase Count\", \"Average Purchase Price\", \"Total Purchase Value\"]]\n",
    "organized_spender\n",
    "\n",
    "count_total = organized_spender.sort_values(\"Total Purchase Value\", ascending=False)\n",
    "count_total[\"Average Purchase Price\"] = count_total[\"Average Purchase Price\"].map(\"${:.2f}\".format)\n",
    "count_total[\"Total Purchase Value\"] = count_total[\"Total Purchase Value\"].map(\"${:.2f}\".format)\n",
    "count_total.head(5)"
   ]
  },
  {
   "cell_type": "code",
   "execution_count": null,
   "metadata": {},
   "outputs": [],
   "source": [
    "# Most Popular Items\n",
    "pop_items = purchase_data.loc[:, [\"Item ID\", \"Item Name\", \"Price\"]]\n",
    "\n",
    "grouped_items = pop_items.groupby([\"Item ID\", \"Item Name\"])\n",
    "items_df = pd.DataFrame(grouped_items[\"Price\"].sum())\n",
    "items_df[\"Purchase Count\"] = grouped_items[\"Price\"].count()\n",
    "items_df[\"Item Price\"] = items_df[\"Price\"] / items_df[\"Purchase Count\"]\n",
    "\n",
    "items_df = items_df.rename(columns={\"Price\":\"Total Purchase Value\"})\n",
    "items_df = items_df[[\"Purchase Count\", \"Item Price\", \"Total Purchase Value\"]]\n",
    "\n",
    "items_sort = items_df.sort_values(\"Purchase Count\", ascending=False)\n",
    "items_sort[\"Total Purchase Value\"] = items_sort[\"Total Purchase Value\"].map(\"${:.2f}\".format)\n",
    "items_sort[\"Item Price\"] = items_sort[\"Item Price\"].map(\"${:.2f}\".format)\n",
    "items_sort.head(5)"
   ]
  },
  {
   "cell_type": "code",
   "execution_count": null,
   "metadata": {},
   "outputs": [],
   "source": [
    "# Most Profitable Items\n",
    "profit_sort = items_df.sort_values(\"Total Purchase Value\", ascending=False)\n",
    "profit_sort[\"Item Price\"] = profit_sort[\"Item Price\"].map(\"${:.2f}\".format)\n",
    "profit_sort[\"Total Purchase Value\"] = profit_sort[\"Total Purchase Value\"].map(\"${:.2f}\".format)\n",
    "profit_sort.head(5)"
   ]
  },
  {
   "cell_type": "code",
   "execution_count": null,
   "metadata": {},
   "outputs": [],
   "source": []
  }
 ],
 "metadata": {
  "kernelspec": {
   "display_name": "Python 3",
   "language": "python",
   "name": "python3"
  },
  "language_info": {
   "codemirror_mode": {
    "name": "ipython",
    "version": 3
   },
   "file_extension": ".py",
   "mimetype": "text/x-python",
   "name": "python",
   "nbconvert_exporter": "python",
   "pygments_lexer": "ipython3",
   "version": "3.7.4"
  }
 },
 "nbformat": 4,
 "nbformat_minor": 2
}
